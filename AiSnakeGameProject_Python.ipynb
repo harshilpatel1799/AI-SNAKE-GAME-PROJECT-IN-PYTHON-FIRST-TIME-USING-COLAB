{
  "nbformat": 4,
  "nbformat_minor": 0,
  "metadata": {
    "colab": {
      "name": "AiClubProject Python.ipynb",
      "provenance": [],
      "collapsed_sections": []
    },
    "kernelspec": {
      "name": "python3",
      "display_name": "Python 3"
    }
  },
  "cells": [
    {
      "cell_type": "markdown",
      "metadata": {
        "id": "ei92Qor2TZ95",
        "colab_type": "text"
      },
      "source": [
        "### Now we will be starting to create the game logic in python for the I. (Python3) - By Harshil Patel\n",
        "\n",

       "- The game we are implementing is called snake. If you are unfamiliar, You can play the game here :\n",
        "\n",
        "- - https://www.google.com/search?q=snake&rlz=1C1CHFX_enUS598US598&oq=snake&aqs=chrome..69i57j35i39j69i60l3j69i61.631j0j7&sourceid=chrome&ie=UTF-8\n",
        "\n",
        "- - The goal is to eat as many apples as possible while avoiding your tail\n"
      ]
    },
    {
      "cell_type": "markdown",
      "metadata": {
        "id": "oMY1p_fkTwKS",
        "colab_type": "text"
      },
      "source": [
        "### First, we need a place to edit code. IDE’s are a very popular way to edit code, and for python development, I believe that virtual environments are the best (for reasons you will learn eventually)\n",
        "- So, I suggest using PyCharm as the way to develop this project. \n",
        "\n",
        "- - It will force us to use the same ‘style’\n",
        "\n",
        "- - - Very important for merging code\n",
        "\n",
        "- - It has really useful features\n",
        "\n",
        "- - - Autofill\n",
        "\n",
        "- - - Parameter lookup\n",
        "\n",
        "- - - Built-in interpreter\n",
        "\n",
        "- - - And much, much more\n",
        "\n",
        "- PyCharm download instructions: https://www.jetbrains.com/pycharm/download/\n",
        "\n",
        "- Even though this guide suggests PyCharm, I will usually not mention PyCharm features. This way you can still get a feel for running python code outside IDE environments (in the terminal)\n"
      ]
    },
    {
      "cell_type": "markdown",
      "metadata": {
        "id": "ZwzEzzZDUlEj",
        "colab_type": "text"
      },
      "source": [
        "### We first need a way to describe the game in a more ‘mathematical’ way, such that we can program it.\n",
        "- I think the best way to do this is to visualize the game of snake as a grid, with the snake and the food occupying spots in the grid\n",
        "\n",
        "- This way we can represent the game as values moving through a 2-Dimensional matrix. This will allow us to create the game back-end fairly easily. \n"
      ]
    },
    {
      "cell_type": "markdown",
      "metadata": {
        "id": "6dCCl4irU25L",
        "colab_type": "text"
      },
      "source": [
        "### We will start by playing around with a matrix and see how we can interact with it\n",
        "\n",
        "- First thing we are going to do is create a new file (DICTIONARY.txt)\n",
        "\n",
        "- - With this we are going to keep track of our definitions\n",
        "\n",
        "- - First thing we are going to add is \n",
        "\n",
        "0 = empty\n",
        "\n",
        "1 = snake head\n",
        "\n",
        "2 = snake body\n",
        "\n",
        "3 = food\n",
        "\n",
        "- - This way we can put values in a matrix and understand what they mean in reality\n",
        "\n",
        "- Now we are going to add a new python file (Tests.py)\n",
        "\n",
        "- - In this file we will create and play with a matrix\n",
        "\n",
        "- - Creating a matrix is as easy as creating a list inside a list\n"
      ]
    },
    {
      "cell_type": "code",
      "metadata": {
        "id": "5rc042KFVI90",
        "colab_type": "code",
        "outputId": "187bf965-1fcf-4b50-9a8f-03cff9d3f089",
        "colab": {
          "base_uri": "https://localhost:8080/",
          "height": 34
        }
      },
      "source": [
        "def create_2d_matrix(num_rows, num_cols):\n",
        "    matrix = []\n",
        "    for row in range(num_rows):\n",
        "        temp = []\n",
        "        for cols in range(num_cols):\n",
        "            temp.append(0)\n",
        "        matrix.append(temp)\n",
        "    return matrix\n",
        "\n",
        "print(create_2d_matrix(5, 5))"
      ],
      "execution_count": 0,
      "outputs": [
        {
          "output_type": "stream",
          "text": [
            "[[0, 0, 0, 0, 0], [0, 0, 0, 0, 0], [0, 0, 0, 0, 0], [0, 0, 0, 0, 0], [0, 0, 0, 0, 0]]\n"
          ],
          "name": "stdout"
        }
      ]
    },
    {
      "cell_type": "markdown",
      "metadata": {
        "id": "3BQgPft7VUFR",
        "colab_type": "text"
      },
      "source": [
        "### We want a way to print the matrix so it looks like a gameboard\n",
        "\n",
        "- This is as easy as printing each row individually "
      ]
    },
    {
      "cell_type": "code",
      "metadata": {
        "id": "y-BgdfoBVc6G",
        "colab_type": "code",
        "outputId": "7bc68dc3-c16d-4893-b733-73b1a0411d8d",
        "colab": {
          "base_uri": "https://localhost:8080/",
          "height": 67
        }
      },
      "source": [
        "def print_matrix(matrix):\n",
        "    for row in matrix:\n",
        "        print(row)\n",
        "      \n",
        "test = create_2d_matrix(3, 6)\n",
        "\n",
        "print_matrix(test)"
      ],
      "execution_count": 0,
      "outputs": [
        {
          "output_type": "stream",
          "text": [
            "[0, 0, 0, 0, 0, 0]\n",
            "[0, 0, 0, 0, 0, 0]\n",
            "[0, 0, 0, 0, 0, 0]\n"
          ],
          "name": "stdout"
        }
      ]
    },
    {
      "cell_type": "markdown",
      "metadata": {
        "id": "QhmAItTfVjKp",
        "colab_type": "text"
      },
      "source": [
        "### But when the game starts, we want more than just an empty board\n",
        "\n",
        "- usually want one random location to contain a food \n",
        "\n",
        "- and one random location to start the snake head"
      ]
    },
    {
      "cell_type": "code",
      "metadata": {
        "id": "F4Y3STvQWDCG",
        "colab_type": "code",
        "outputId": "706a2a54-11e5-47aa-bc62-5456c54e49e5",
        "colab": {
          "base_uri": "https://localhost:8080/",
          "height": 84
        }
      },
      "source": [
        "from random import randint\n",
        "\n",
        "\n",
        "def place_item(matrix, item):\n",
        "    num_rows = len(matrix) - 1\n",
        "    num_cols = len(matrix[0]) - 1\n",
        "    i = 0\n",
        "    stop_point = num_rows * num_cols\n",
        "    # For a random position on our board\n",
        "    rand_row = randint(0, num_rows)\n",
        "    rand_col = randint(0, num_cols)\n",
        "    while matrix[rand_row][rand_col] != 0 and i < stop_point:\n",
        "        rand_row = randint(0, num_rows)\n",
        "        rand_col = randint(0, num_cols)\n",
        "        i = i + 1\n",
        "    # Replace empty location with food\n",
        "    matrix[rand_row][rand_col] = item\n",
        "    return rand_row, rand_col\n",
        "\n",
        "\n",
        "test = create_2d_matrix(4, 4)\n",
        "\n",
        "place_item(test, item=3)\n",
        "place_item(test, item=1)\n",
        "\n",
        "print_matrix(test)"
      ],
      "execution_count": 0,
      "outputs": [
        {
          "output_type": "stream",
          "text": [
            "[0, 3, 0, 0]\n",
            "[0, 0, 0, 0]\n",
            "[0, 1, 0, 0]\n",
            "[0, 0, 0, 0]\n"
          ],
          "name": "stdout"
        }
      ]
    },
    {
      "cell_type": "markdown",
      "metadata": {
        "id": "7cWxVETog0PV",
        "colab_type": "text"
      },
      "source": [
        "### So now we would like to move the snake around\n",
        "\n",
        "- The snake head (value 1 in the grid) will be able to move up down left or right\n",
        "\n",
        "- Later in the game when the snake has a longer tail it won't be able to move backwards \n",
        "\n",
        "- All this means is that we will 'swap' values around the grid to move the snake"
      ]
    },
    {
      "cell_type": "code",
      "metadata": {
        "id": "Mb_xKFBKjXlJ",
        "colab_type": "code",
        "outputId": "4f1cd0d0-0c95-4a34-f210-289314954b17",
        "colab": {
          "base_uri": "https://localhost:8080/",
          "height": 826
        }
      },
      "source": [
        "# Head at 3,2\n",
        "row = 3\n",
        "col = 2\n",
        "matrix = [[0, 0, 0, 0], [0, 3, 0, 0], [0, 0, 0, 0], [0, 0, 1, 0]]\n",
        "\n",
        "print_matrix(matrix)\n",
        "print('\\n')\n",
        "\n",
        "def move(matrix, head_row, head_col, direction):\n",
        "    old_row = head_row\n",
        "    old_col = head_col\n",
        "    if direction == 0:\n",
        "        head_row = head_row - 1\n",
        "    elif direction == 1:\n",
        "        head_row = head_row + 1\n",
        "    elif direction == 2:\n",
        "        head_col = head_col - 1\n",
        "    elif direction == 3:\n",
        "        head_col = head_col + 1\n",
        "    # Switch head and with grid value of the direction moved\n",
        "    matrix[old_row][old_col], matrix[head_row][head_col] = matrix[head_row][head_col], matrix[old_row][old_col]\n",
        "    return head_row, head_col\n",
        "\n",
        "for _ in range(3):\n",
        "  # Up = 0\n",
        "  row, col = move(matrix, row, col, 0)\n",
        "  print_matrix(matrix)\n",
        "  print('\\n')\n",
        "\n",
        "for _ in range(2):\n",
        "  # Left = 2\n",
        "  row, col = move(matrix, row, col, 2)\n",
        "  print_matrix(matrix)\n",
        "  print('\\n')\n",
        "\n",
        "# Down = 1\n",
        "row, col = move(matrix, row, col, 1)\n",
        "print_matrix(matrix)\n",
        "print('\\n')\n",
        "\n",
        "# Right = 3\n",
        "row, col = move(matrix, row, col, 3)\n",
        "print_matrix(matrix)"
      ],
      "execution_count": 0,
      "outputs": [
        {
          "output_type": "stream",
          "text": [
            "[0, 0, 0, 0]\n",
            "[0, 3, 0, 0]\n",
            "[0, 0, 0, 0]\n",
            "[0, 0, 1, 0]\n",
            "\n",
            "\n",
            "[0, 0, 0, 0]\n",
            "[0, 3, 0, 0]\n",
            "[0, 0, 1, 0]\n",
            "[0, 0, 0, 0]\n",
            "\n",
            "\n",
            "[0, 0, 0, 0]\n",
            "[0, 3, 1, 0]\n",
            "[0, 0, 0, 0]\n",
            "[0, 0, 0, 0]\n",
            "\n",
            "\n",
            "[0, 0, 1, 0]\n",
            "[0, 3, 0, 0]\n",
            "[0, 0, 0, 0]\n",
            "[0, 0, 0, 0]\n",
            "\n",
            "\n",
            "[0, 1, 0, 0]\n",
            "[0, 3, 0, 0]\n",
            "[0, 0, 0, 0]\n",
            "[0, 0, 0, 0]\n",
            "\n",
            "\n",
            "[1, 0, 0, 0]\n",
            "[0, 3, 0, 0]\n",
            "[0, 0, 0, 0]\n",
            "[0, 0, 0, 0]\n",
            "\n",
            "\n",
            "[0, 0, 0, 0]\n",
            "[1, 3, 0, 0]\n",
            "[0, 0, 0, 0]\n",
            "[0, 0, 0, 0]\n",
            "\n",
            "\n",
            "[0, 0, 0, 0]\n",
            "[3, 1, 0, 0]\n",
            "[0, 0, 0, 0]\n",
            "[0, 0, 0, 0]\n"
          ],
          "name": "stdout"
        }
      ]
    },
    {
      "cell_type": "markdown",
      "metadata": {
        "id": "pePMu-S-pvja",
        "colab_type": "text"
      },
      "source": [
        "### We can start to see how the snake will be moved about the grid\n",
        "\n",
        "- Of course we want to move the snake with input from the keyboard, so lets add a naive way of doing this\n",
        "\n",
        "- This is the same as calling Scanner.nextline in something like java"
      ]
    },
    {
      "cell_type": "code",
      "metadata": {
        "id": "3Jl3KIiQpu3b",
        "colab_type": "code",
        "outputId": "dc5cd5d2-3268-443e-846c-47b3b6c16d19",
        "colab": {
          "base_uri": "https://localhost:8080/",
          "height": 478
        }
      },
      "source": [
        "# Python Dictionary\n",
        "DIRECTIONS = {\n",
        "    'w': 0,\n",
        "    's': 1,\n",
        "    'a': 2,\n",
        "    'd': 3\n",
        "}\n",
        "\n",
        "\n",
        "def direction_from_user():\n",
        "    direction = None\n",
        "    while direction not in DIRECTIONS.keys():\n",
        "        direction = input(\"Enter a single direction: \")\n",
        "    return DIRECTIONS[direction]\n",
        "  \n",
        "test = create_2d_matrix(4, 4)\n",
        "\n",
        "# Place Food = 3\n",
        "place_item(test, 3)\n",
        "# Place Head = 1\n",
        "head_row, head_col = place_item(test, 1)\n",
        "\n",
        "print_matrix(test)\n",
        "\n",
        "# _ means we don't care about the value ¯\\_(ツ)_/¯\n",
        "for _ in range(5):\n",
        "    head_row, head_col = move(test, head_row, head_col, direction_from_user())\n",
        "    print_matrix(test)"
      ],
      "execution_count": 0,
      "outputs": [
        {
          "output_type": "stream",
          "text": [
            "[0, 0, 0, 1]\n",
            "[0, 0, 0, 0]\n",
            "[0, 0, 0, 0]\n",
            "[3, 0, 0, 0]\n",
            "Enter a single direction: a\n",
            "[0, 0, 1, 0]\n",
            "[0, 0, 0, 0]\n",
            "[0, 0, 0, 0]\n",
            "[3, 0, 0, 0]\n",
            "Enter a single direction: a\n",
            "[0, 1, 0, 0]\n",
            "[0, 0, 0, 0]\n",
            "[0, 0, 0, 0]\n",
            "[3, 0, 0, 0]\n",
            "Enter a single direction: a\n",
            "[1, 0, 0, 0]\n",
            "[0, 0, 0, 0]\n",
            "[0, 0, 0, 0]\n",
            "[3, 0, 0, 0]\n",
            "Enter a single direction: s\n",
            "[0, 0, 0, 0]\n",
            "[1, 0, 0, 0]\n",
            "[0, 0, 0, 0]\n",
            "[3, 0, 0, 0]\n"
          ],
          "name": "stdout"
        }
      ]
    },
    {
      "cell_type": "markdown",
      "metadata": {
        "id": "FjWF25tqtG5_",
        "colab_type": "text"
      },
      "source": [
        ""
      ]
    },
    {
      "cell_type": "markdown",
      "metadata": {
        "id": "mHXOp7x7jnwB",
        "colab_type": "text"
      },
      "source": [
        "### Go back to the Dictionary.txt file you created and add in these definitions:\n",
        "Up = 0\n",
        "\n",
        "Down = 1\n",
        "\n",
        "Left = 2\n",
        "\n",
        "Right = 3"
      ]
    },
    {
      "cell_type": "markdown",
      "metadata": {
        "id": "eDJzM9zAE8VV",
        "colab_type": "text"
      },
      "source": [
        "### With this background information, We are going to create a snake class\n",
        "\n",
        "- This way we can have an organized object that holds all the information about a snake\n",
        "\n",
        "- Hopefully this will allow us to scale the game up as well\n",
        "- - as in be able to create multiple instances of the game with possibly multiple snakes on the board at a time\n",
        "\n",
        "### Create a new file called Snake.py\n",
        "\n",
        "- In this file we will create the Snake class that will hold the position of the snake head and the snake tail (every other part of the snake that isn't the head)\n",
        "\n",
        "- We will include ways to create and maintain the snake through this class"
      ]
    },
    {
      "cell_type": "code",
      "metadata": {
        "id": "5_jvv3SVHmlK",
        "colab_type": "code",
        "colab": {}
      },
      "source": [
        "from random import randint\n",
        "\n",
        "\n",
        "class Snake:\n",
        "    # Create a new snake given a board already created (this is a constructor in python)\n",
        "    def __init__(self, board):\n",
        "        self.board = board\n",
        "        self.head = self.new_head()\n",
        "        # implemented as a first in first out queue\n",
        "        self.body = []\n",
        "        self.length = 1\n",
        "\n",
        "    # Create a new head in the grid so that it isn't placed on top of anything else\n",
        "    def new_head(self):\n",
        "        num_rows = len(self.board) - 1\n",
        "        num_cols = len(self.board[0]) - 1\n",
        "        i = 0\n",
        "        stop_point = num_rows * num_cols\n",
        "        # For a random position on our board\n",
        "        rand_row = randint(0, num_rows)\n",
        "        rand_col = randint(0, num_cols)\n",
        "        while self.board[rand_row][rand_col] != 0 and i < stop_point:\n",
        "            rand_row = randint(0, num_rows)\n",
        "            rand_col = randint(0, num_cols)\n",
        "            i = i + 1\n",
        "        return [rand_row, rand_col]\n",
        "\n",
        "    # Adding a body segment to the tail is really just letting the head move while the body stays in the same place\n",
        "    def grow(self):\n",
        "        self.body.append(self.head)\n",
        "        self.length = self.length + 1\n",
        "        self.draw_tail()\n",
        "        return\n",
        "\n",
        "    # Moving the tail is the same as growing, except we drop the last body node to maintain size\n",
        "    def move_tail(self):\n",
        "        self.body.append(self.head)\n",
        "        self.draw_tail(self.body.pop(0))\n",
        "        return\n",
        "\n",
        "    # Move the head to the specified location\n",
        "    def move_head(self, row, col):\n",
        "        self.head = [row, col]\n",
        "        self.board[row][col] = 1\n",
        "        return\n",
        " \n",
        "    # Place all the current tail segments on the map, Deleting the last one if we did not eat any food this move\n",
        "    def draw_tail(self, tail=None):\n",
        "        if tail:\n",
        "            self.board[tail[0]][tail[1]] = 0\n",
        "        for segment in self.body:\n",
        "            self.board[segment[0]][segment[1]] = 2\n",
        "        return\n"
      ],
      "execution_count": 0,
      "outputs": []
    },
    {
      "cell_type": "markdown",
      "metadata": {
        "id": "ggtNGv66LOrQ",
        "colab_type": "text"
      },
      "source": [
        "### We also want a similar class for food\n",
        "\n",
        "- This one is much more simple. It only needs to keep track of the food's location and place the food on the board\n"
      ]
    },
    {
      "cell_type": "code",
      "metadata": {
        "id": "2V1ZFV_uLvyG",
        "colab_type": "code",
        "colab": {}
      },
      "source": [
        "from random import randint\n",
        "\n",
        "\n",
        "class Food:\n",
        "    # Create a new snake given a board already created (this is a constructor in python)\n",
        "    def __init__(self, board):\n",
        "        self.board = board\n",
        "        self.location = self.spawn()\n",
        "\n",
        "    # Create a new head in the grid so that it isn't placed on top of anything else\n",
        "    def spawn(self):\n",
        "        num_rows = len(self.board) - 1\n",
        "        num_cols = len(self.board[0]) - 1\n",
        "        i = 0\n",
        "        stop_point = num_rows * num_cols\n",
        "        # For a random position on our board\n",
        "        rand_row = randint(0, num_rows)\n",
        "        rand_col = randint(0, num_cols)\n",
        "        while self.board[rand_row][rand_col] != 0 and i < stop_point:\n",
        "            rand_row = randint(0, num_rows)\n",
        "            rand_col = randint(0, num_cols)\n",
        "            i = i + 1\n",
        "        return [rand_row, rand_col]\n",
        "\n",
        "    # Puts the food on the game board\n",
        "    def draw_food(self):\n",
        "        self.board[self.location[0]][self.location[1]] = 3\n",
        "        return\n",
        "\n",
        "    # The food was eaten by the snake, so it will spawn in a new location\n",
        "    def eat(self, loc):\n",
        "        if self.location == loc:\n",
        "            self.location = self.spawn()\n",
        "            self.draw_food()\n",
        "            return True\n",
        "        return False\n"
      ],
      "execution_count": 0,
      "outputs": []
    },
    {
      "cell_type": "markdown",
      "metadata": {
        "id": "R_qoCjIoRa-a",
        "colab_type": "text"
      },
      "source": [
        "### We will also want a movement class\n",
        "- This way we can disconnect the move algorithms from the actual game\n",
        "- We want to be able to change from different movement schemes without affecting anything else"
      ]
    },
    {
      "cell_type": "code",
      "metadata": {
        "id": "_LKJSt6jRyAi",
        "colab_type": "code",
        "colab": {}
      },
      "source": [
        "\n",
        "# Python Dictionary\n",
        "DIRECTIONS = {\n",
        "    'w': 0,\n",
        "    's': 1,\n",
        "    'a': 2,\n",
        "    'd': 3\n",
        "}\n",
        "\n",
        "\n",
        "class Movement:\n",
        "\n",
        "    # Move based on user input from keyboard. As simple as it gets\n",
        "    @staticmethod\n",
        "    def naive_move(matrix, head_row, head_col, direction):\n",
        "        old_row = head_row\n",
        "        old_col = head_col\n",
        "        if direction == 0:\n",
        "            head_row = head_row - 1\n",
        "        elif direction == 1:\n",
        "            head_row = head_row + 1\n",
        "        elif direction == 2:\n",
        "            head_col = head_col - 1\n",
        "        elif direction == 3:\n",
        "            head_col = head_col + 1\n",
        "        return head_row, head_col\n",
        "\n",
        "    @staticmethod\n",
        "    def direction_from_user():\n",
        "        direction = None\n",
        "        while direction not in DIRECTIONS.keys():\n",
        "            direction = input(\"Enter a single direction: \")\n",
        "        return DIRECTIONS[direction]\n"
      ],
      "execution_count": 0,
      "outputs": []
    },
    {
      "cell_type": "markdown",
      "metadata": {
        "id": "H2LxzZTDQhwh",
        "colab_type": "text"
      },
      "source": [
        "### We also want a class to control the board and the possible states it can be in\n",
        "\n",
        "- This way the board can be independent of the snake and the food\n",
        "\n",
        "- The snake and the food reside on the board, not define the board\n",
        "\n",
        "- We will create a new file called Board.py\n",
        "\n",
        "- This way we can implement game logic that should be able to change outside the board class\n",
        "\n",
        "- The closer we get to only calling methods in this class, the better"
      ]
    },
    {
      "cell_type": "code",
      "metadata": {
        "id": "k24NqZ_SSQ1l",
        "colab_type": "code",
        "colab": {}
      },
      "source": [
        "# from Snake import Snake\n",
        "# from Food import Food\n",
        "# from Move import Movement\n",
        "\n",
        "\n",
        "class Board:\n",
        "    def __init__(self, height, width):\n",
        "        self.board = Board.create_2d_matrix(height, width)\n",
        "        self.snakes = []\n",
        "        self.foods = []\n",
        "\n",
        "    # Create the board that we are going to be playing on\n",
        "    @staticmethod\n",
        "    def create_2d_matrix(num_rows, num_cols):\n",
        "        matrix = []\n",
        "        for row in range(num_rows):\n",
        "            temp = []\n",
        "            for cols in range(num_cols):\n",
        "                temp.append(0)\n",
        "            matrix.append(temp)\n",
        "        return matrix\n",
        "\n",
        "    # Create a snake on the board\n",
        "    def create_snake(self):\n",
        "        # Create a new snake object\n",
        "        self.snakes.append(Snake(self.board))\n",
        "        # Use that snake object to place a snake head on the board\n",
        "        # -1 index is the last item in the list.\n",
        "        pos = self.snakes[-1].head\n",
        "        self.board[pos[0]][pos[1]] = 1\n",
        "        return\n",
        "\n",
        "    # Create a food on the board\n",
        "    def place_food(self):\n",
        "        # Create a new food object\n",
        "        self.foods.append(Food(self.board))\n",
        "        # use that new food object to place a food on the board\n",
        "        pos = self.foods[-1].location\n",
        "        self.board[pos[0]][pos[1]] = 3\n",
        "        return\n",
        "\n",
        "    # Print out the current board\n",
        "    def print(self):\n",
        "        for row in self.board:\n",
        "            print(row)\n",
        "\n",
        "    # The snake is going to eat and then grow, making the tail one unit longer and the food spawn in a new location\n",
        "    def eat_and_grow(self, snake, row, col):\n",
        "        snake.grow()\n",
        "        for food in self.foods:\n",
        "            if food.eat([row, col]):\n",
        "                return\n",
        "        return\n",
        "\n",
        "    # Loop through simple logic of the game\n",
        "    def play(self):\n",
        "        move = Movement\n",
        "        while True:\n",
        "            # For every snake on the board, move the snake\n",
        "            for snake in self.snakes:\n",
        "                # Get a new board location for the head of the snake based on user input\n",
        "                new_row, new_col = move.naive_move(self.board, snake.head[0], snake.head[1], move.direction_from_user())\n",
        "                # If we move the head to a food location, eat and grow\n",
        "                if self.board[new_row][new_col] == 3:\n",
        "                    self.eat_and_grow(snake, new_row, new_col)\n",
        "                # We just moved normally\n",
        "                else:\n",
        "                    snake.move_tail()\n",
        "                # Move head last, tail depends on appending the head location to the tail queue\n",
        "                snake.move_head(new_row, new_col)\n",
        "                self.print()\n"
      ],
      "execution_count": 0,
      "outputs": []
    },
    {
      "cell_type": "markdown",
      "metadata": {
        "id": "wBvXr28kNq5g",
        "colab_type": "text"
      },
      "source": [
        "### A new file called Game.py can be created to create the flow of the game\n",
        "- You can stop execution with CTRL+D\n",
        "- - This works with most programs (on the command line)"
      ]
    },
    {
      "cell_type": "code",
      "metadata": {
        "id": "_6fw5ap_OG80",
        "colab_type": "code",
        "outputId": "fc2a522f-4dc1-4f9b-cde1-a1543cf2b1d2",
        "colab": {
          "base_uri": "https://localhost:8080/",
          "height": 1000
        }
      },
      "source": [
        "# import Board\n",
        "\n",
        "board = Board(5, 5)\n",
        "board.place_food()\n",
        "board.create_snake()\n",
        "board.print()\n",
        "board.play()"
      ],
      "execution_count": 0,
      "outputs": [
        {
          "output_type": "stream",
          "text": [
            "[0, 0, 0, 0, 0]\n",
            "[0, 0, 0, 0, 3]\n",
            "[0, 0, 0, 0, 0]\n",
            "[0, 0, 0, 0, 0]\n",
            "[1, 0, 0, 0, 0]\n",
            "Enter a single direction: d\n",
            "[0, 0, 0, 0, 0]\n",
            "[0, 0, 0, 0, 3]\n",
            "[0, 0, 0, 0, 0]\n",
            "[0, 0, 0, 0, 0]\n",
            "[0, 1, 0, 0, 0]\n",
            "Enter a single direction: d\n",
            "[0, 0, 0, 0, 0]\n",
            "[0, 0, 0, 0, 3]\n",
            "[0, 0, 0, 0, 0]\n",
            "[0, 0, 0, 0, 0]\n",
            "[0, 0, 1, 0, 0]\n",
            "Enter a single direction: d\n",
            "[0, 0, 0, 0, 0]\n",
            "[0, 0, 0, 0, 3]\n",
            "[0, 0, 0, 0, 0]\n",
            "[0, 0, 0, 0, 0]\n",
            "[0, 0, 0, 1, 0]\n",
            "Enter a single direction: d\n",
            "[0, 0, 0, 0, 0]\n",
            "[0, 0, 0, 0, 3]\n",
            "[0, 0, 0, 0, 0]\n",
            "[0, 0, 0, 0, 0]\n",
            "[0, 0, 0, 0, 1]\n",
            "Enter a single direction: w\n",
            "[0, 0, 0, 0, 0]\n",
            "[0, 0, 0, 0, 3]\n",
            "[0, 0, 0, 0, 0]\n",
            "[0, 0, 0, 0, 1]\n",
            "[0, 0, 0, 0, 0]\n",
            "Enter a single direction: w\n",
            "[0, 0, 0, 0, 0]\n",
            "[0, 0, 0, 0, 3]\n",
            "[0, 0, 0, 0, 1]\n",
            "[0, 0, 0, 0, 0]\n",
            "[0, 0, 0, 0, 0]\n",
            "Enter a single direction: w\n",
            "[0, 0, 3, 0, 0]\n",
            "[0, 0, 0, 0, 1]\n",
            "[0, 0, 0, 0, 2]\n",
            "[0, 0, 0, 0, 0]\n",
            "[0, 0, 0, 0, 0]\n",
            "Enter a single direction: a\n",
            "[0, 0, 3, 0, 0]\n",
            "[0, 0, 0, 1, 2]\n",
            "[0, 0, 0, 0, 0]\n",
            "[0, 0, 0, 0, 0]\n",
            "[0, 0, 0, 0, 0]\n",
            "Enter a single direction: w\n",
            "[0, 0, 3, 1, 0]\n",
            "[0, 0, 0, 2, 0]\n",
            "[0, 0, 0, 0, 0]\n",
            "[0, 0, 0, 0, 0]\n",
            "[0, 0, 0, 0, 0]\n",
            "Enter a single direction: a\n",
            "[0, 0, 1, 2, 0]\n",
            "[0, 0, 0, 2, 3]\n",
            "[0, 0, 0, 0, 0]\n",
            "[0, 0, 0, 0, 0]\n",
            "[0, 0, 0, 0, 0]\n",
            "Enter a single direction: s\n",
            "[0, 0, 2, 2, 0]\n",
            "[0, 0, 1, 0, 3]\n",
            "[0, 0, 0, 0, 0]\n",
            "[0, 0, 0, 0, 0]\n",
            "[0, 0, 0, 0, 0]\n",
            "Enter a single direction: d\n",
            "[0, 0, 2, 0, 0]\n",
            "[0, 0, 2, 1, 3]\n",
            "[0, 0, 0, 0, 0]\n",
            "[0, 0, 0, 0, 0]\n",
            "[0, 0, 0, 0, 0]\n",
            "Enter a single direction: d\n",
            "[0, 0, 2, 0, 0]\n",
            "[0, 0, 2, 2, 1]\n",
            "[0, 0, 0, 3, 0]\n",
            "[0, 0, 0, 0, 0]\n",
            "[0, 0, 0, 0, 0]\n",
            "Enter a single direction: s\n",
            "[0, 0, 0, 0, 0]\n",
            "[0, 0, 2, 2, 2]\n",
            "[0, 0, 0, 3, 1]\n",
            "[0, 0, 0, 0, 0]\n",
            "[0, 0, 0, 0, 0]\n",
            "Enter a single direction: a\n",
            "[0, 3, 0, 0, 0]\n",
            "[0, 0, 2, 2, 2]\n",
            "[0, 0, 0, 1, 2]\n",
            "[0, 0, 0, 0, 0]\n",
            "[0, 0, 0, 0, 0]\n"
          ],
          "name": "stdout"
        },
        {
          "output_type": "error",
          "ename": "KeyboardInterrupt",
          "evalue": "ignored",
          "traceback": [
            "\u001b[0;31m---------------------------------------------------------------------------\u001b[0m",
            "\u001b[0;31mKeyboardInterrupt\u001b[0m                         Traceback (most recent call last)",
            "\u001b[0;32m/usr/local/lib/python3.6/dist-packages/ipykernel/kernelbase.py\u001b[0m in \u001b[0;36m_input_request\u001b[0;34m(self, prompt, ident, parent, password)\u001b[0m\n\u001b[1;32m    729\u001b[0m             \u001b[0;32mtry\u001b[0m\u001b[0;34m:\u001b[0m\u001b[0;34m\u001b[0m\u001b[0;34m\u001b[0m\u001b[0m\n\u001b[0;32m--> 730\u001b[0;31m                 \u001b[0mident\u001b[0m\u001b[0;34m,\u001b[0m \u001b[0mreply\u001b[0m \u001b[0;34m=\u001b[0m \u001b[0mself\u001b[0m\u001b[0;34m.\u001b[0m\u001b[0msession\u001b[0m\u001b[0;34m.\u001b[0m\u001b[0mrecv\u001b[0m\u001b[0;34m(\u001b[0m\u001b[0mself\u001b[0m\u001b[0;34m.\u001b[0m\u001b[0mstdin_socket\u001b[0m\u001b[0;34m,\u001b[0m \u001b[0;36m0\u001b[0m\u001b[0;34m)\u001b[0m\u001b[0;34m\u001b[0m\u001b[0;34m\u001b[0m\u001b[0m\n\u001b[0m\u001b[1;32m    731\u001b[0m             \u001b[0;32mexcept\u001b[0m \u001b[0mException\u001b[0m\u001b[0;34m:\u001b[0m\u001b[0;34m\u001b[0m\u001b[0;34m\u001b[0m\u001b[0m\n",
            "\u001b[0;32m/usr/local/lib/python3.6/dist-packages/jupyter_client/session.py\u001b[0m in \u001b[0;36mrecv\u001b[0;34m(self, socket, mode, content, copy)\u001b[0m\n\u001b[1;32m    802\u001b[0m         \u001b[0;32mtry\u001b[0m\u001b[0;34m:\u001b[0m\u001b[0;34m\u001b[0m\u001b[0;34m\u001b[0m\u001b[0m\n\u001b[0;32m--> 803\u001b[0;31m             \u001b[0mmsg_list\u001b[0m \u001b[0;34m=\u001b[0m \u001b[0msocket\u001b[0m\u001b[0;34m.\u001b[0m\u001b[0mrecv_multipart\u001b[0m\u001b[0;34m(\u001b[0m\u001b[0mmode\u001b[0m\u001b[0;34m,\u001b[0m \u001b[0mcopy\u001b[0m\u001b[0;34m=\u001b[0m\u001b[0mcopy\u001b[0m\u001b[0;34m)\u001b[0m\u001b[0;34m\u001b[0m\u001b[0;34m\u001b[0m\u001b[0m\n\u001b[0m\u001b[1;32m    804\u001b[0m         \u001b[0;32mexcept\u001b[0m \u001b[0mzmq\u001b[0m\u001b[0;34m.\u001b[0m\u001b[0mZMQError\u001b[0m \u001b[0;32mas\u001b[0m \u001b[0me\u001b[0m\u001b[0;34m:\u001b[0m\u001b[0;34m\u001b[0m\u001b[0;34m\u001b[0m\u001b[0m\n",
            "\u001b[0;32m/usr/local/lib/python3.6/dist-packages/zmq/sugar/socket.py\u001b[0m in \u001b[0;36mrecv_multipart\u001b[0;34m(self, flags, copy, track)\u001b[0m\n\u001b[1;32m    465\u001b[0m         \"\"\"\n\u001b[0;32m--> 466\u001b[0;31m         \u001b[0mparts\u001b[0m \u001b[0;34m=\u001b[0m \u001b[0;34m[\u001b[0m\u001b[0mself\u001b[0m\u001b[0;34m.\u001b[0m\u001b[0mrecv\u001b[0m\u001b[0;34m(\u001b[0m\u001b[0mflags\u001b[0m\u001b[0;34m,\u001b[0m \u001b[0mcopy\u001b[0m\u001b[0;34m=\u001b[0m\u001b[0mcopy\u001b[0m\u001b[0;34m,\u001b[0m \u001b[0mtrack\u001b[0m\u001b[0;34m=\u001b[0m\u001b[0mtrack\u001b[0m\u001b[0;34m)\u001b[0m\u001b[0;34m]\u001b[0m\u001b[0;34m\u001b[0m\u001b[0;34m\u001b[0m\u001b[0m\n\u001b[0m\u001b[1;32m    467\u001b[0m         \u001b[0;31m# have first part already, only loop while more to receive\u001b[0m\u001b[0;34m\u001b[0m\u001b[0;34m\u001b[0m\u001b[0;34m\u001b[0m\u001b[0m\n",
            "\u001b[0;32mzmq/backend/cython/socket.pyx\u001b[0m in \u001b[0;36mzmq.backend.cython.socket.Socket.recv\u001b[0;34m()\u001b[0m\n",
            "\u001b[0;32mzmq/backend/cython/socket.pyx\u001b[0m in \u001b[0;36mzmq.backend.cython.socket.Socket.recv\u001b[0;34m()\u001b[0m\n",
            "\u001b[0;32mzmq/backend/cython/socket.pyx\u001b[0m in \u001b[0;36mzmq.backend.cython.socket._recv_copy\u001b[0;34m()\u001b[0m\n",
            "\u001b[0;32m/usr/local/lib/python3.6/dist-packages/zmq/backend/cython/checkrc.pxd\u001b[0m in \u001b[0;36mzmq.backend.cython.checkrc._check_rc\u001b[0;34m()\u001b[0m\n",
            "\u001b[0;31mKeyboardInterrupt\u001b[0m: ",
            "\nDuring handling of the above exception, another exception occurred:\n",
            "\u001b[0;31mKeyboardInterrupt\u001b[0m                         Traceback (most recent call last)",
            "\u001b[0;32m<ipython-input-12-ddd7045a2e99>\u001b[0m in \u001b[0;36m<module>\u001b[0;34m()\u001b[0m\n\u001b[1;32m      4\u001b[0m \u001b[0mboard\u001b[0m\u001b[0;34m.\u001b[0m\u001b[0mcreate_snake\u001b[0m\u001b[0;34m(\u001b[0m\u001b[0;34m)\u001b[0m\u001b[0;34m\u001b[0m\u001b[0;34m\u001b[0m\u001b[0m\n\u001b[1;32m      5\u001b[0m \u001b[0mboard\u001b[0m\u001b[0;34m.\u001b[0m\u001b[0mprint\u001b[0m\u001b[0;34m(\u001b[0m\u001b[0;34m)\u001b[0m\u001b[0;34m\u001b[0m\u001b[0;34m\u001b[0m\u001b[0m\n\u001b[0;32m----> 6\u001b[0;31m \u001b[0mboard\u001b[0m\u001b[0;34m.\u001b[0m\u001b[0mplay\u001b[0m\u001b[0;34m(\u001b[0m\u001b[0;34m)\u001b[0m\u001b[0;34m\u001b[0m\u001b[0;34m\u001b[0m\u001b[0m\n\u001b[0m",
            "\u001b[0;32m<ipython-input-9-4274a1eb8de0>\u001b[0m in \u001b[0;36mplay\u001b[0;34m(self)\u001b[0m\n\u001b[1;32m     57\u001b[0m             \u001b[0;32mfor\u001b[0m \u001b[0msnake\u001b[0m \u001b[0;32min\u001b[0m \u001b[0mself\u001b[0m\u001b[0;34m.\u001b[0m\u001b[0msnakes\u001b[0m\u001b[0;34m:\u001b[0m\u001b[0;34m\u001b[0m\u001b[0;34m\u001b[0m\u001b[0m\n\u001b[1;32m     58\u001b[0m                 \u001b[0;31m# Get a new board location for the head of the snake based on user input\u001b[0m\u001b[0;34m\u001b[0m\u001b[0;34m\u001b[0m\u001b[0;34m\u001b[0m\u001b[0m\n\u001b[0;32m---> 59\u001b[0;31m                 \u001b[0mnew_row\u001b[0m\u001b[0;34m,\u001b[0m \u001b[0mnew_col\u001b[0m \u001b[0;34m=\u001b[0m \u001b[0mmove\u001b[0m\u001b[0;34m.\u001b[0m\u001b[0mnaive_move\u001b[0m\u001b[0;34m(\u001b[0m\u001b[0mself\u001b[0m\u001b[0;34m.\u001b[0m\u001b[0mboard\u001b[0m\u001b[0;34m,\u001b[0m \u001b[0msnake\u001b[0m\u001b[0;34m.\u001b[0m\u001b[0mhead\u001b[0m\u001b[0;34m[\u001b[0m\u001b[0;36m0\u001b[0m\u001b[0;34m]\u001b[0m\u001b[0;34m,\u001b[0m \u001b[0msnake\u001b[0m\u001b[0;34m.\u001b[0m\u001b[0mhead\u001b[0m\u001b[0;34m[\u001b[0m\u001b[0;36m1\u001b[0m\u001b[0;34m]\u001b[0m\u001b[0;34m,\u001b[0m \u001b[0mmove\u001b[0m\u001b[0;34m.\u001b[0m\u001b[0mdirection_from_user\u001b[0m\u001b[0;34m(\u001b[0m\u001b[0;34m)\u001b[0m\u001b[0;34m)\u001b[0m\u001b[0;34m\u001b[0m\u001b[0;34m\u001b[0m\u001b[0m\n\u001b[0m\u001b[1;32m     60\u001b[0m                 \u001b[0;31m# If we move the head to a food location, eat and grow\u001b[0m\u001b[0;34m\u001b[0m\u001b[0;34m\u001b[0m\u001b[0;34m\u001b[0m\u001b[0m\n\u001b[1;32m     61\u001b[0m                 \u001b[0;32mif\u001b[0m \u001b[0mself\u001b[0m\u001b[0;34m.\u001b[0m\u001b[0mboard\u001b[0m\u001b[0;34m[\u001b[0m\u001b[0mnew_row\u001b[0m\u001b[0;34m]\u001b[0m\u001b[0;34m[\u001b[0m\u001b[0mnew_col\u001b[0m\u001b[0;34m]\u001b[0m \u001b[0;34m==\u001b[0m \u001b[0;36m3\u001b[0m\u001b[0;34m:\u001b[0m\u001b[0;34m\u001b[0m\u001b[0;34m\u001b[0m\u001b[0m\n",
            "\u001b[0;32m<ipython-input-8-faec45f3cba8>\u001b[0m in \u001b[0;36mdirection_from_user\u001b[0;34m()\u001b[0m\n\u001b[1;32m     28\u001b[0m         \u001b[0mdirection\u001b[0m \u001b[0;34m=\u001b[0m \u001b[0;32mNone\u001b[0m\u001b[0;34m\u001b[0m\u001b[0;34m\u001b[0m\u001b[0m\n\u001b[1;32m     29\u001b[0m         \u001b[0;32mwhile\u001b[0m \u001b[0mdirection\u001b[0m \u001b[0;32mnot\u001b[0m \u001b[0;32min\u001b[0m \u001b[0mDIRECTIONS\u001b[0m\u001b[0;34m.\u001b[0m\u001b[0mkeys\u001b[0m\u001b[0;34m(\u001b[0m\u001b[0;34m)\u001b[0m\u001b[0;34m:\u001b[0m\u001b[0;34m\u001b[0m\u001b[0;34m\u001b[0m\u001b[0m\n\u001b[0;32m---> 30\u001b[0;31m             \u001b[0mdirection\u001b[0m \u001b[0;34m=\u001b[0m \u001b[0minput\u001b[0m\u001b[0;34m(\u001b[0m\u001b[0;34m\"Enter a single direction: \"\u001b[0m\u001b[0;34m)\u001b[0m\u001b[0;34m\u001b[0m\u001b[0;34m\u001b[0m\u001b[0m\n\u001b[0m\u001b[1;32m     31\u001b[0m         \u001b[0;32mreturn\u001b[0m \u001b[0mDIRECTIONS\u001b[0m\u001b[0;34m[\u001b[0m\u001b[0mdirection\u001b[0m\u001b[0;34m]\u001b[0m\u001b[0;34m\u001b[0m\u001b[0;34m\u001b[0m\u001b[0m\n",
            "\u001b[0;32m/usr/local/lib/python3.6/dist-packages/ipykernel/kernelbase.py\u001b[0m in \u001b[0;36mraw_input\u001b[0;34m(self, prompt)\u001b[0m\n\u001b[1;32m    703\u001b[0m             \u001b[0mself\u001b[0m\u001b[0;34m.\u001b[0m\u001b[0m_parent_ident\u001b[0m\u001b[0;34m,\u001b[0m\u001b[0;34m\u001b[0m\u001b[0;34m\u001b[0m\u001b[0m\n\u001b[1;32m    704\u001b[0m             \u001b[0mself\u001b[0m\u001b[0;34m.\u001b[0m\u001b[0m_parent_header\u001b[0m\u001b[0;34m,\u001b[0m\u001b[0;34m\u001b[0m\u001b[0;34m\u001b[0m\u001b[0m\n\u001b[0;32m--> 705\u001b[0;31m             \u001b[0mpassword\u001b[0m\u001b[0;34m=\u001b[0m\u001b[0;32mFalse\u001b[0m\u001b[0;34m,\u001b[0m\u001b[0;34m\u001b[0m\u001b[0;34m\u001b[0m\u001b[0m\n\u001b[0m\u001b[1;32m    706\u001b[0m         )\n\u001b[1;32m    707\u001b[0m \u001b[0;34m\u001b[0m\u001b[0m\n",
            "\u001b[0;32m/usr/local/lib/python3.6/dist-packages/ipykernel/kernelbase.py\u001b[0m in \u001b[0;36m_input_request\u001b[0;34m(self, prompt, ident, parent, password)\u001b[0m\n\u001b[1;32m    733\u001b[0m             \u001b[0;32mexcept\u001b[0m \u001b[0mKeyboardInterrupt\u001b[0m\u001b[0;34m:\u001b[0m\u001b[0;34m\u001b[0m\u001b[0;34m\u001b[0m\u001b[0m\n\u001b[1;32m    734\u001b[0m                 \u001b[0;31m# re-raise KeyboardInterrupt, to truncate traceback\u001b[0m\u001b[0;34m\u001b[0m\u001b[0;34m\u001b[0m\u001b[0;34m\u001b[0m\u001b[0m\n\u001b[0;32m--> 735\u001b[0;31m                 \u001b[0;32mraise\u001b[0m \u001b[0mKeyboardInterrupt\u001b[0m\u001b[0;34m\u001b[0m\u001b[0;34m\u001b[0m\u001b[0m\n\u001b[0m\u001b[1;32m    736\u001b[0m             \u001b[0;32melse\u001b[0m\u001b[0;34m:\u001b[0m\u001b[0;34m\u001b[0m\u001b[0;34m\u001b[0m\u001b[0m\n\u001b[1;32m    737\u001b[0m                 \u001b[0;32mbreak\u001b[0m\u001b[0;34m\u001b[0m\u001b[0;34m\u001b[0m\u001b[0m\n",
            "\u001b[0;31mKeyboardInterrupt\u001b[0m: "
          ]
        }
      ]
    },
    {
      "cell_type": "markdown",
      "metadata": {
        "id": "Iw3vWN3JmlHh",
        "colab_type": "text"
      },
      "source": [
        "## CONTINUE ON YOUR OWN - I expect you to do this in your environemnt\n",
        "- Feel free to use the code above as a starting point :)\n",
        "- Remeber, the only person who taught me how to do Machine Learning stuff was myself. I promise you it will too late to learn Ai from the university. You have to do it on your own time.\n",
        "- This is the first of many steps to get to where you need to be so you can be comfortable saying you know how to program machine learning algorithms. \n",
        "\n",
        "### Find a way to prevent crashing the program due to moving out of the legal index values of the matrix\n",
        "- aka don't hit a wall (index < 0 or index > len(matrix) and so on )\n",
        "\n",
        "### Better implementation than just moving values with the spot we moved to\n",
        "- Example: what if we hit our own body? We should start over\n",
        "- Example: if we hit a wall?\n",
        "- Example: if we try to go backwards?\n",
        "\n",
        "## --> make a simple algorithm to play the game without user input <--\n",
        "- examples are DFS, BFS, etc.\n",
        "- Or create your own! This one is fun\n",
        "- Try to make the movement logic independent of all other functionality.\n",
        "\n",
        "#### Better way to get input from the user.\n",
        "- Check out this Stack Overflow for more info https://stackoverflow.com/questions/13207678/whats-the-simplest-way-of-detecting-keyboard-input-in-python-from-the-terminal\n",
        "\n",
        "\n",
        "#### Bonus things to try to implement\n",
        "- Ways to handle more than one snake on a board\n",
        "- Ways to handle more than one food on the board (should be easy)\n",
        "- Ways to run multiple games in parallel\n",
        "- Start thinking about how to create a nice front end for this backend logic\n",
        "- How could we make this more efficient?\n"
      ]
    }
  ]
}
